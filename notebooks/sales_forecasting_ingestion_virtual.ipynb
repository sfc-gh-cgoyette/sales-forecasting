{
 "cells": [
  {
   "cell_type": "markdown",
   "id": "eeb95a92-2234-4ded-b701-3106eca875f9",
   "metadata": {
    "tags": []
   },
   "source": [
    "# TruEra Python SDK\n",
    "## Virtual Model Ingestion\n",
    "## Sales Forecasting demo\n",
    "\n",
    "## Pre-requisites: Download and Install Truera Python Client\n",
    "1. Download Python wheel from [Downloads](/downloads) page.\n",
    "Install the wheel in your Python environment using `pip install truera-*.whl`\n"
   ]
  },
  {
   "cell_type": "code",
   "execution_count": 253,
   "id": "63cb5ef5-727a-466d-b978-dd50fbd9aec2",
   "metadata": {
    "tags": []
   },
   "outputs": [],
   "source": [
    "import pandas as pd\n",
    "import numpy as np\n",
    "import pickle\n",
    "import random\n",
    "\n",
    "from truera.client.truera_workspace import TrueraWorkspace\n",
    "from truera.client.truera_authentication import TokenAuthentication\n",
    "from truera.client.truera_authentication import BasicAuthentication\n",
    "from truera.client.ingestion import ColumnSpec, ModelOutputContext\n",
    "\n",
    "from truera.client.ingestion.util import merge_dataframes_and_create_column_spec\n",
    "\n",
    "import glob\n",
    "import os\n",
    "\n",
    "from datetime import datetime"
   ]
  },
  {
   "cell_type": "markdown",
   "id": "1fb3f377-bc60-43e6-902a-ba15672b27ba",
   "metadata": {},
   "source": [
    "------"
   ]
  },
  {
   "cell_type": "markdown",
   "id": "94592480-db72-4a61-93da-389412889000",
   "metadata": {},
   "source": [
    "## Virtual Model Ingestion"
   ]
  },
  {
   "cell_type": "markdown",
   "id": "f18f4cac-1410-43b6-8313-c1914e37efbc",
   "metadata": {},
   "source": [
    "## Load all data"
   ]
  },
  {
   "cell_type": "code",
   "execution_count": 254,
   "id": "a178d688-3a73-4255-8671-1ab3279ed0ed",
   "metadata": {
    "tags": []
   },
   "outputs": [],
   "source": [
    "#for generating feature map\n",
    "X_train_pre = pd.read_csv('./pre_train.csv',index_col=0).reset_index()\n",
    "X_train_post = pd.read_csv('./post_train.csv',index_col=0).reset_index()\n",
    "y = pd.read_csv('./labels_train.csv',index_col=0).reset_index()"
   ]
  },
  {
   "cell_type": "markdown",
   "id": "aab7410c-0305-45f7-b42c-fe11d0a51fdc",
   "metadata": {
    "tags": []
   },
   "source": [
    "##### Ridge Regression training, validation, and production data with:\n",
    "- unique ids\n",
    "- predictions\n",
    "- feature influences\n",
    "- timestamps (for production splits)"
   ]
  },
  {
   "cell_type": "code",
   "execution_count": 255,
   "id": "807ee617-e286-48ad-9e1b-cf0504f43ee8",
   "metadata": {
    "tags": []
   },
   "outputs": [],
   "source": [
    "lr_train_data_df=pd.read_csv(\"lr_train_data_df.csv\",index_col=[0]) \n",
    "lr_val_data_df=pd.read_csv(\"lr_val_data_df.csv\",index_col=[0])  \n",
    "lr_prod_data_df=pd.read_csv(\"lr_prod_data_df.csv\",index_col=[0]) "
   ]
  },
  {
   "cell_type": "markdown",
   "id": "f0adb269-24f1-49e7-b368-0cf0b06cff76",
   "metadata": {
    "tags": []
   },
   "source": [
    "##### Random Forest Regressor training, validation, and production data with:\n",
    "- unique ids\n",
    "- predictions\n",
    "- feature influences\n",
    "- timestamps (for production splits)"
   ]
  },
  {
   "cell_type": "code",
   "execution_count": 256,
   "id": "e3cd5fcb-91e7-4a8d-8a4c-bcffd050a79b",
   "metadata": {
    "tags": []
   },
   "outputs": [],
   "source": [
    "rf_train_data_df=pd.read_csv(\"rf_train_data_df.csv\",index_col=0)\n",
    "rf_val_data_df=pd.read_csv(\"rf_val_data_df.csv\",index_col=0)\n",
    "rf_prod_data_df=pd.read_csv(\"rf_prod_data_df.csv\",index_col=0)"
   ]
  },
  {
   "cell_type": "code",
   "execution_count": 257,
   "id": "181181c4-d972-4009-8923-7803841e95e1",
   "metadata": {
    "tags": []
   },
   "outputs": [],
   "source": [
    "with open('column_spec.pkl', 'rb') as f:\n",
    "    column_spec = pickle.load(f)"
   ]
  },
  {
   "cell_type": "code",
   "execution_count": 258,
   "id": "a02c3ed9-cc8d-44e7-99f3-51841733a5b9",
   "metadata": {
    "tags": []
   },
   "outputs": [],
   "source": [
    "with open('prod_column_spec.pkl', 'rb') as f:\n",
    "    prod_column_spec = pickle.load(f)"
   ]
  },
  {
   "cell_type": "code",
   "execution_count": 259,
   "id": "fc8ec456-f8ec-4baa-b625-8db87ddb3c4f",
   "metadata": {
    "tags": []
   },
   "outputs": [],
   "source": [
    "with open('background_column_spec.pkl', 'rb') as f:\n",
    "    background_column_spec = pickle.load(f)"
   ]
  },
  {
   "cell_type": "code",
   "execution_count": 260,
   "id": "30f265d2-c47b-4baa-b2d9-1675483f7c19",
   "metadata": {
    "tags": []
   },
   "outputs": [
    {
     "data": {
      "text/plain": [
       "ColumnSpec(id_col_name='index', ranking_item_id_column_name=None, ranking_group_id_column_name=None, timestamp_col_name='datetime', tags_col_name=None, extra_data_col_names=[], pre_data_col_names=['store', 'brand', 'week', 'feat', 'price', 'AGE60', 'EDUC', 'ETHNIC', 'INCOME', 'HHLARGE', 'WORKWOM', 'HVAL150', 'SSTRDIST', 'SSTRVOL', 'CPDIST5', 'CPWVOL5'], post_data_col_names=['store', 'week', 'feat', 'price', 'AGE60', 'EDUC', 'ETHNIC', 'INCOME', 'HHLARGE', 'WORKWOM', 'HVAL150', 'SSTRDIST', 'SSTRVOL', 'CPDIST5', 'CPWVOL5', 'brand_dominicks', 'brand_minute.maid', 'brand_tropicana'], prediction_col_names=[], label_col_names=[], feature_influence_col_names=[])"
      ]
     },
     "execution_count": 260,
     "metadata": {},
     "output_type": "execute_result"
    }
   ],
   "source": [
    "background_column_spec"
   ]
  },
  {
   "cell_type": "markdown",
   "id": "3d827f8a-87e4-46e9-a4ac-48b375e4ad0f",
   "metadata": {},
   "source": [
    "note that background_column_spec has no predictions or labels. These can be included, but they are not required. "
   ]
  },
  {
   "cell_type": "markdown",
   "id": "be5c3c9a-66a0-4e01-908e-547cc84c8155",
   "metadata": {
    "tags": []
   },
   "source": [
    "## Create Project\n",
    "A project is a collection of models and datasets solving a single problem statement.\n",
    "Users can be provided access to collaborate on a project."
   ]
  },
  {
   "cell_type": "code",
   "execution_count": null,
   "id": "ac4cdbd4-c80f-43ba-b80d-994631018ca2",
   "metadata": {
    "tags": []
   },
   "outputs": [],
   "source": [
    "# connection details\n",
    "TRUERA_URL = \"https://app.truera.net\"\n",
    "AUTH_TOKEN = \"<insert auth token>\""
   ]
  },
  {
   "cell_type": "code",
   "execution_count": null,
   "id": "9d08be7c-77ad-425b-8488-9ff9151ffb99",
   "metadata": {
    "tags": []
   },
   "outputs": [],
   "source": [
    "auth = TokenAuthentication(AUTH_TOKEN)\n",
    "tru = TrueraWorkspace(TRUERA_URL, auth, ignore_version_mismatch=True)"
   ]
  },
  {
   "cell_type": "code",
   "execution_count": null,
   "id": "60588f5a-b2cd-40e7-b6ea-54981c16d71b",
   "metadata": {
    "tags": []
   },
   "outputs": [],
   "source": [
    "project_name = \"Sales Forecasting - Virtual Models\""
   ]
  },
  {
   "cell_type": "code",
   "execution_count": null,
   "id": "fec08742-2a32-4cd2-97cb-ceaccb5c2357",
   "metadata": {
    "tags": []
   },
   "outputs": [],
   "source": [
    "tru.add_project(project_name, score_type='regression')"
   ]
  },
  {
   "cell_type": "code",
   "execution_count": null,
   "id": "dbf4b0a3-e863-444d-8250-2a42309d08f2",
   "metadata": {
    "tags": []
   },
   "outputs": [],
   "source": [
    "tru.activate_client_setting('create_model_tests_on_split_ingestion')"
   ]
  },
  {
   "cell_type": "markdown",
   "id": "0788c67f-6371-4256-a6db-f2b26f30206a",
   "metadata": {
    "tags": []
   },
   "source": [
    "## Data Collection\n",
    "1. Use data schema, pre- & post-feature engineering, to create feature map\n",
    "2. Add new data collection to project with feature map"
   ]
  },
  {
   "cell_type": "code",
   "execution_count": null,
   "id": "b5272de3-3202-40b3-b49e-89be45400d7a",
   "metadata": {
    "tags": []
   },
   "outputs": [],
   "source": [
    "with open('feature_map.pkl', 'rb') as f:\n",
    "    FEATURE_MAP = pickle.load(f)"
   ]
  },
  {
   "cell_type": "code",
   "execution_count": null,
   "id": "5e79d3b8-3753-4bdd-8bfe-691166b680c9",
   "metadata": {},
   "outputs": [],
   "source": [
    "FEATURE_MAP"
   ]
  },
  {
   "cell_type": "code",
   "execution_count": null,
   "id": "5c672b1a-357c-4f83-aab6-43cf05733a4d",
   "metadata": {
    "tags": []
   },
   "outputs": [],
   "source": [
    "tru.add_data_collection(\"OJ Sales Data LR\", pre_to_post_feature_map=FEATURE_MAP, provide_transform_with_model=False)"
   ]
  },
  {
   "cell_type": "markdown",
   "id": "a806762f-b5c4-491a-9e79-44272132e0e3",
   "metadata": {},
   "source": [
    "## Model 1: Ridge Regression\n",
    "1. add a 'virtual' model -- placeholder for associated I/O data that will be ingested\n",
    "2. add data\n",
    "* background split - creates basis for interpretation of feature influences associated with subsequent dev & prod data\n",
    "* training data\n",
    "* validation data\n",
    "* production data\n",
    "\n",
    "Note that there are three separate column specs used:\n",
    "1. background column spec -- index, pre, post, labels, and predictions (optional). No feature influences.\n",
    "2. dev column spec -- index, pre, post, labels, predictions, and feature influences.\n",
    "3. prod column spec -- index, pre, post, labels, predictions, feature influences, and timestamps. "
   ]
  },
  {
   "cell_type": "code",
   "execution_count": null,
   "id": "6bb62a5b-210c-4f0d-b33d-8e21639e99d8",
   "metadata": {
    "tags": []
   },
   "outputs": [],
   "source": [
    "model_name = 'Ridge Regression'\n",
    "tru.add_python_model(model_name)"
   ]
  },
  {
   "cell_type": "markdown",
   "id": "933aab65-f643-4533-9e73-fcdfae075fec",
   "metadata": {},
   "source": [
    "### Background data"
   ]
  },
  {
   "cell_type": "code",
   "execution_count": null,
   "id": "06483f7d-12ba-48ee-afa2-c6296923ca96",
   "metadata": {
    "tags": []
   },
   "outputs": [],
   "source": [
    "tru.add_data(\n",
    "        data=background_data_df,\n",
    "        data_split_name='background data',\n",
    "        column_spec=background_column_spec,\n",
    "        model_output_context=ModelOutputContext(\n",
    "            model_name=model_name,\n",
    "            influence_type='truera-qii',\n",
    "            score_type='regression'))"
   ]
  },
  {
   "cell_type": "markdown",
   "id": "7bfea04e-21f2-401e-ab30-ea34360a3e02",
   "metadata": {},
   "source": [
    "### Training Data"
   ]
  },
  {
   "cell_type": "code",
   "execution_count": null,
   "id": "821f56f9-d252-4f64-962d-c5d8de2f1dd3",
   "metadata": {
    "tags": []
   },
   "outputs": [],
   "source": [
    "tru.add_data(\n",
    "        data=lr_train_data_df,\n",
    "        data_split_name='training data',\n",
    "        column_spec=column_spec,\n",
    "        model_output_context=ModelOutputContext(\n",
    "            model_name=model_name,\n",
    "            background_split_name='background data',\n",
    "            influence_type='truera-qii',\n",
    "            score_type='regression'))"
   ]
  },
  {
   "cell_type": "markdown",
   "id": "27e7387b-4fb0-46d1-99cd-89f9110c650d",
   "metadata": {},
   "source": [
    "### Validation Data"
   ]
  },
  {
   "cell_type": "code",
   "execution_count": null,
   "id": "18d15d7f-b509-47ff-9d1c-81163416c46b",
   "metadata": {
    "tags": []
   },
   "outputs": [],
   "source": [
    "tru.add_data(\n",
    "        data=lr_val_data_df,\n",
    "        data_split_name='validation data',\n",
    "        column_spec=column_spec,\n",
    "        model_output_context=ModelOutputContext(\n",
    "            model_name=model_name,\n",
    "            background_split_name='background data',\n",
    "            influence_type='truera-qii',\n",
    "            score_type='regression'))"
   ]
  },
  {
   "cell_type": "markdown",
   "id": "6f8f7e50-61eb-4afb-bfc5-37155f349e4c",
   "metadata": {},
   "source": [
    "### Production Data"
   ]
  },
  {
   "cell_type": "code",
   "execution_count": null,
   "id": "d2c220d6-8072-42a5-91a7-2271ca555737",
   "metadata": {
    "tags": []
   },
   "outputs": [],
   "source": [
    "model_name = 'Ridge Regression'\n",
    "tru.add_production_data(\n",
    "        data=lr_prod_data_df,\n",
    "        column_spec=prod_column_spec,\n",
    "        model_output_context=ModelOutputContext(\n",
    "            model_name=model_name,\n",
    "            background_split_name='background data',\n",
    "            influence_type='truera-qii',\n",
    "            score_type='regression'))"
   ]
  },
  {
   "cell_type": "markdown",
   "id": "24f33239-d3ed-4f0f-8cab-e3d81fdd8af0",
   "metadata": {},
   "source": [
    "## Model 2: Random Forest Regressor\n",
    "1. add a 'virtual' model -- placeholder for associated I/O data that will be ingested\n",
    "2. add data\n",
    "* background split - creates basis for interpretation of feature influences associated with subsequent dev & prod data\n",
    "* training data\n",
    "* validation data\n",
    "* production data"
   ]
  },
  {
   "cell_type": "code",
   "execution_count": null,
   "id": "e034170a-6d07-4759-9202-460a363b8af3",
   "metadata": {
    "tags": []
   },
   "outputs": [],
   "source": [
    "tru.add_data_collection(\"OJ Sales Data RF\", pre_to_post_feature_map=FEATURE_MAP, provide_transform_with_model=False)"
   ]
  },
  {
   "cell_type": "code",
   "execution_count": null,
   "id": "3d9fdb3b-9b0c-487a-8f3a-70702f7640b5",
   "metadata": {
    "tags": []
   },
   "outputs": [],
   "source": [
    "model_name = 'Random Forest Regressor'\n",
    "tru.add_python_model(model_name)"
   ]
  },
  {
   "cell_type": "markdown",
   "id": "9327556c-1c75-42ec-9b05-446899d28654",
   "metadata": {},
   "source": [
    "### Background data"
   ]
  },
  {
   "cell_type": "code",
   "execution_count": null,
   "id": "554ce559-5736-42df-97a1-e7ae38b71805",
   "metadata": {
    "tags": []
   },
   "outputs": [],
   "source": [
    "tru.add_data(\n",
    "        data=background_data_df,\n",
    "        data_split_name='background data',\n",
    "        column_spec=background_column_spec,\n",
    "        model_output_context=ModelOutputContext(\n",
    "            model_name=model_name,\n",
    "            influence_type='truera-qii',\n",
    "            score_type='regression'))"
   ]
  },
  {
   "cell_type": "markdown",
   "id": "32b71f6f-f567-462a-9b48-8fe560a9f8fc",
   "metadata": {
    "tags": []
   },
   "source": [
    "### Training Data"
   ]
  },
  {
   "cell_type": "code",
   "execution_count": null,
   "id": "c55ca107-ae26-4e05-a58c-c6a7a24a29ad",
   "metadata": {
    "tags": []
   },
   "outputs": [],
   "source": [
    "tru.add_data(\n",
    "        data=rf_train_data_df,\n",
    "        data_split_name='training data',\n",
    "        column_spec=column_spec,\n",
    "        model_output_context=ModelOutputContext(\n",
    "            model_name=model_name,\n",
    "            background_split_name='background data',\n",
    "            influence_type='truera-qii',\n",
    "            score_type='regression'))"
   ]
  },
  {
   "cell_type": "markdown",
   "id": "01890eb3-cb34-4a48-a6f3-a310b04427f8",
   "metadata": {},
   "source": [
    "### Validation Data"
   ]
  },
  {
   "cell_type": "code",
   "execution_count": null,
   "id": "7be4ddd4-2171-4612-837e-8d614151be77",
   "metadata": {
    "tags": []
   },
   "outputs": [],
   "source": [
    "tru.add_data(\n",
    "        data=rf_val_data_df,\n",
    "        data_split_name='validation data',\n",
    "        column_spec=column_spec,\n",
    "        model_output_context=ModelOutputContext(\n",
    "            model_name=model_name,\n",
    "            background_split_name='background data',\n",
    "            influence_type='truera-qii',\n",
    "            score_type='regression'))"
   ]
  },
  {
   "cell_type": "markdown",
   "id": "f1cc4a3f-bef1-4784-b074-4ba6c3d9fbc1",
   "metadata": {},
   "source": [
    "### Production Data"
   ]
  },
  {
   "cell_type": "code",
   "execution_count": null,
   "id": "06b554b9-7f7f-46d3-8d49-7dc6ccad7c46",
   "metadata": {
    "tags": []
   },
   "outputs": [],
   "source": [
    "tru.add_production_data(\n",
    "        data=rf_prod_data_df,\n",
    "        column_spec=prod_column_spec,\n",
    "        model_output_context=ModelOutputContext(\n",
    "            model_name=model_name,\n",
    "            background_split_name='background data',\n",
    "            influence_type='truera-qii',\n",
    "            score_type='regression'))"
   ]
  }
 ],
 "metadata": {
  "kernelspec": {
   "display_name": "Python [conda env:app.truera.net] *",
   "language": "python",
   "name": "conda-env-app.truera.net-py"
  },
  "language_info": {
   "codemirror_mode": {
    "name": "ipython",
    "version": 3
   },
   "file_extension": ".py",
   "mimetype": "text/x-python",
   "name": "python",
   "nbconvert_exporter": "python",
   "pygments_lexer": "ipython3",
   "version": "3.8.16"
  }
 },
 "nbformat": 4,
 "nbformat_minor": 5
}
